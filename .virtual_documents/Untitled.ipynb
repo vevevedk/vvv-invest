pip install yfinance


import yfinance as yf
import pandas as pd
import numpy as np


# Define the ticker and expiration date
ticker = 'SPY'
expiration = '2024-08-09'


# Fetch options data
spy = yf.Ticker(ticker)
options = spy.option_chain(expiration)


# Extract calls and puts data
calls = options.calls
puts = options.puts


calls


# Calculate Volume/Open Interest ratio
calls['Vol/OI'] = np.where(calls['openInterest'] > 0, calls['volume'] / calls['openInterest'], 0)
puts['Vol/OI'] = np.where(puts['openInterest'] > 0, puts['volume'] / puts['openInterest'], 0)


# Select relevant columns
call_columns = ['strike', 'volume', 'openInterest', 'impliedVolatility', 'Vol/OI']
put_columns = ['strike', 'volume', 'openInterest', 'impliedVolatility', 'Vol/OI']

# Extract Delta data (which is embedded in option data)
# Unfortunately, yfinance doesn't provide Delta directly. This would need to be calculated
# or obtained through a more advanced options API. For the sake of this example, assume we have the delta data.
calls['Delta'] = np.random.uniform(0.2, 0.8, len(calls))  # Placeholder for Delta
puts['Delta'] = -np.random.uniform(0.2, 0.8, len(puts))  # Placeholder for Delta

# Reorder columns to match the required output format
calls = calls[['strike', 'volume', 'openInterest', 'Delta', 'impliedVolatility', 'Vol/OI']]
puts = puts[['strike', 'volume', 'openInterest', 'Delta', 'impliedVolatility', 'Vol/OI']]

# Combine the data for output
output = pd.concat([calls, puts], axis=1, keys=['Calls', 'Puts'])

# Display the result
print(output.to_string(index=False))






