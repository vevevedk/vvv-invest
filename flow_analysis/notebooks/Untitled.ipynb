{
 "cells": [
  {
   "cell_type": "code",
   "execution_count": 1,
   "id": "5a9eac81-cc45-4e42-a254-6d8a5eaa71f4",
   "metadata": {},
   "outputs": [],
   "source": [
    "# Cell 1: Setup and imports\n",
    "import pandas as pd\n",
    "from sqlalchemy import create_engine\n",
    "from tabulate import tabulate\n",
    "\n",
    "# Database connection setup\n",
    "DB_CONFIG = {\n",
    "    'dbname': 'defaultdb',\n",
    "    'user': 'doadmin',\n",
    "    'password': 'AVNS_SrG4Bo3B7uCNEPONkE4',\n",
    "    'host': 'vvv-trading-db-do-user-2110609-0.i.db.ondigitalocean.com',\n",
    "    'port': '25060',\n",
    "    'sslmode': 'require'\n",
    "}\n",
    "\n",
    "# Create database URL\n",
    "DATABASE_URL = f\"postgresql://{DB_CONFIG['user']}:{DB_CONFIG['password']}@{DB_CONFIG['host']}:{DB_CONFIG['port']}/{DB_CONFIG['dbname']}\"\n",
    "\n",
    "# Create engine with SSL required\n",
    "engine = create_engine(\n",
    "    DATABASE_URL,\n",
    "    connect_args={\n",
    "        'sslmode': 'require'\n",
    "    }\n",
    ")"
   ]
  },
  {
   "cell_type": "code",
   "execution_count": 2,
   "id": "385b12c1-6085-473a-83ea-d0bc48c79be9",
   "metadata": {},
   "outputs": [
    {
     "name": "stdout",
     "output_type": "stream",
     "text": [
      "\n",
      "Table Row Counts:\n"
     ]
    },
    {
     "data": {
      "text/html": [
       "<div>\n",
       "<style scoped>\n",
       "    .dataframe tbody tr th:only-of-type {\n",
       "        vertical-align: middle;\n",
       "    }\n",
       "\n",
       "    .dataframe tbody tr th {\n",
       "        vertical-align: top;\n",
       "    }\n",
       "\n",
       "    .dataframe thead th {\n",
       "        text-align: right;\n",
       "    }\n",
       "</style>\n",
       "<table border=\"1\" class=\"dataframe\">\n",
       "  <thead>\n",
       "    <tr style=\"text-align: right;\">\n",
       "      <th></th>\n",
       "      <th>table_name</th>\n",
       "      <th>row_count</th>\n",
       "      <th>last_update</th>\n",
       "    </tr>\n",
       "  </thead>\n",
       "  <tbody>\n",
       "    <tr>\n",
       "      <th>0</th>\n",
       "      <td>trading.collector_logs</td>\n",
       "      <td>13396</td>\n",
       "      <td>2025-05-03 11:30:02.981436+00:00</td>\n",
       "    </tr>\n",
       "    <tr>\n",
       "      <th>1</th>\n",
       "      <td>trading.darkpool_trades</td>\n",
       "      <td>15438</td>\n",
       "      <td>2025-05-02 19:55:03.284677+00:00</td>\n",
       "    </tr>\n",
       "    <tr>\n",
       "      <th>2</th>\n",
       "      <td>trading.news_headlines</td>\n",
       "      <td>0</td>\n",
       "      <td>NaT</td>\n",
       "    </tr>\n",
       "    <tr>\n",
       "      <th>3</th>\n",
       "      <td>trading.options_flow</td>\n",
       "      <td>0</td>\n",
       "      <td>NaT</td>\n",
       "    </tr>\n",
       "  </tbody>\n",
       "</table>\n",
       "</div>"
      ],
      "text/plain": [
       "                table_name  row_count                      last_update\n",
       "0   trading.collector_logs      13396 2025-05-03 11:30:02.981436+00:00\n",
       "1  trading.darkpool_trades      15438 2025-05-02 19:55:03.284677+00:00\n",
       "2   trading.news_headlines          0                              NaT\n",
       "3     trading.options_flow          0                              NaT"
      ]
     },
     "metadata": {},
     "output_type": "display_data"
    }
   ],
   "source": [
    "# Cell 2: Table counts query\n",
    "query = \"\"\"\n",
    "SELECT \n",
    "    'trading.darkpool_trades' as table_name,\n",
    "    COUNT(*) as row_count,\n",
    "    MAX(collection_time) as last_update\n",
    "FROM trading.darkpool_trades\n",
    "\n",
    "UNION ALL\n",
    "\n",
    "SELECT \n",
    "    'trading.options_flow' as table_name,\n",
    "    COUNT(*) as row_count,\n",
    "    MAX(collected_at) as last_update\n",
    "FROM trading.options_flow\n",
    "\n",
    "UNION ALL\n",
    "\n",
    "SELECT \n",
    "    'trading.news_headlines' as table_name,\n",
    "    COUNT(*) as row_count,\n",
    "    MAX(collected_at) as last_update\n",
    "FROM trading.news_headlines\n",
    "\n",
    "UNION ALL\n",
    "\n",
    "SELECT \n",
    "    'trading.collector_logs' as table_name,\n",
    "    COUNT(*) as row_count,\n",
    "    MAX(timestamp) as last_update\n",
    "FROM trading.collector_logs\n",
    "\n",
    "ORDER BY table_name;\n",
    "\"\"\"\n",
    "\n",
    "try:\n",
    "    counts_df = pd.read_sql_query(query, engine)\n",
    "    print(\"\\nTable Row Counts:\")\n",
    "    display(counts_df)\n",
    "except Exception as e:\n",
    "    print(f\"Error executing query: {str(e)}\")"
   ]
  },
  {
   "cell_type": "code",
   "execution_count": 4,
   "id": "02d1d967-0199-49fb-8914-0af62a467e44",
   "metadata": {},
   "outputs": [
    {
     "name": "stdout",
     "output_type": "stream",
     "text": [
      "\n",
      "Most recent 0 news headlines:\n"
     ]
    },
    {
     "data": {
      "text/html": [
       "<div>\n",
       "<style scoped>\n",
       "    .dataframe tbody tr th:only-of-type {\n",
       "        vertical-align: middle;\n",
       "    }\n",
       "\n",
       "    .dataframe tbody tr th {\n",
       "        vertical-align: top;\n",
       "    }\n",
       "\n",
       "    .dataframe thead th {\n",
       "        text-align: right;\n",
       "    }\n",
       "</style>\n",
       "<table border=\"1\" class=\"dataframe\">\n",
       "  <thead>\n",
       "    <tr style=\"text-align: right;\">\n",
       "      <th></th>\n",
       "      <th>headline</th>\n",
       "      <th>source</th>\n",
       "      <th>published_at</th>\n",
       "      <th>symbols</th>\n",
       "      <th>sentiment</th>\n",
       "      <th>impact_score</th>\n",
       "      <th>collected_at</th>\n",
       "    </tr>\n",
       "  </thead>\n",
       "  <tbody>\n",
       "  </tbody>\n",
       "</table>\n",
       "</div>"
      ],
      "text/plain": [
       "Empty DataFrame\n",
       "Columns: [headline, source, published_at, symbols, sentiment, impact_score, collected_at]\n",
       "Index: []"
      ]
     },
     "metadata": {},
     "output_type": "display_data"
    }
   ],
   "source": [
    "# Cell 4: Recent news headlines query\n",
    "news_query = \"\"\"\n",
    "SELECT \n",
    "    headline,\n",
    "    source,\n",
    "    published_at,\n",
    "    symbols,\n",
    "    sentiment,\n",
    "    impact_score,\n",
    "    collected_at\n",
    "FROM trading.news_headlines\n",
    "ORDER BY published_at DESC\n",
    "LIMIT 5\n",
    "\"\"\"\n",
    "\n",
    "try:\n",
    "    news_df = pd.read_sql_query(news_query, engine)\n",
    "    print(f\"\\nMost recent {len(news_df)} news headlines:\")\n",
    "    display(news_df)\n",
    "except Exception as e:\n",
    "    print(f\"Error executing query: {str(e)}\")"
   ]
  }
 ],
 "metadata": {
  "kernelspec": {
   "display_name": "Python 3 (ipykernel)",
   "language": "python",
   "name": "python3"
  },
  "language_info": {
   "codemirror_mode": {
    "name": "ipython",
    "version": 3
   },
   "file_extension": ".py",
   "mimetype": "text/x-python",
   "name": "python",
   "nbconvert_exporter": "python",
   "pygments_lexer": "ipython3",
   "version": "3.13.2"
  }
 },
 "nbformat": 4,
 "nbformat_minor": 5
}
