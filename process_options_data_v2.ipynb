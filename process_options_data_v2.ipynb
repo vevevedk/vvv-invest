{
 "cells": [
  {
   "cell_type": "code",
   "execution_count": 1,
   "id": "df61b41a-4497-4168-b4ac-38f69a0d5ff0",
   "metadata": {},
   "outputs": [],
   "source": [
    "import os\n",
    "import pandas as pd"
   ]
  },
  {
   "cell_type": "code",
   "execution_count": 5,
   "id": "5247c10c-7e66-4049-9e2d-1ba83aaeed43",
   "metadata": {},
   "outputs": [
    {
     "name": "stdout",
     "output_type": "stream",
     "text": [
      "amd-volatility-greeks-exp-2024-01-26-weekly-near-the-money-01-24-2024.csv\n",
      "amd-volatility-greeks-exp-2024-02-02-weekly-near-the-money-01-24-2024.csv\n",
      "amd-volatility-greeks-exp-2024-02-09-weekly-near-the-money-01-24-2024.csv\n",
      "enph-volatility-greeks-exp-2024-01-26-weekly-near-the-money-01-24-2024.csv\n",
      "enph-volatility-greeks-exp-2024-02-02-weekly-near-the-money-01-24-2024.csv\n",
      "enph-volatility-greeks-exp-2024-02-09-weekly-near-the-money-01-24-2024.csv\n",
      "nflx-volatility-greeks-exp-2024-01-26-weekly-near-the-money-01-24-2024.csv\n",
      "nflx-volatility-greeks-exp-2024-02-02-weekly-near-the-money-01-24-2024.csv\n",
      "nflx-volatility-greeks-exp-2024-02-09-weekly-near-the-money-01-24-2024.csv\n",
      "nvda-volatility-greeks-exp-2024-01-26-weekly-near-the-money-01-24-2024.csv\n",
      "nvda-volatility-greeks-exp-2024-02-02-weekly-near-the-money-01-24-2024.csv\n",
      "nvda-volatility-greeks-exp-2024-02-09-weekly-near-the-money-01-24-2024.csv\n",
      "pltr-volatility-greeks-exp-2024-01-26-weekly-near-the-money-01-24-2024.csv\n",
      "pltr-volatility-greeks-exp-2024-02-02-weekly-near-the-money-01-24-2024.csv\n",
      "pltr-volatility-greeks-exp-2024-02-09-weekly-near-the-money-01-24-2024.csv\n"
     ]
    }
   ],
   "source": [
    "ls csv/"
   ]
  },
  {
   "cell_type": "code",
   "execution_count": 6,
   "id": "61655356-b2d4-4df3-b03e-2229067dce34",
   "metadata": {},
   "outputs": [],
   "source": []
  },
  {
   "cell_type": "code",
   "execution_count": 7,
   "id": "8199646a-a6af-4270-82c2-50709867bc7b",
   "metadata": {},
   "outputs": [],
   "source": [
    "def merge_csv_files(folder_path, output_file):\n",
    "    # List all CSV files in the folder\n",
    "    csv_files = [file for file in os.listdir(folder_path) if file.endswith('.csv')]\n",
    "    \n",
    "    # Initialize an empty DataFrame to store merged data\n",
    "    merged_df = pd.DataFrame()\n",
    "    \n",
    "    # Read each CSV file and merge into the DataFrame\n",
    "    for file in csv_files:\n",
    "        file_path = os.path.join(folder_path, file)\n",
    "        df = pd.read_csv(file_path)\n",
    "        merged_df = pd.concat([merged_df, df], ignore_index=True)\n",
    "    \n",
    "    # Save the merged DataFrame to a new CSV file\n",
    "    merged_df.to_csv(output_file, index=False)\n",
    "    print(f\"Merged data saved to {output_file}\")"
   ]
  },
  {
   "cell_type": "code",
   "execution_count": 9,
   "id": "12d81fa3-8a28-4e8b-8ee1-e06bc8163f01",
   "metadata": {},
   "outputs": [
    {
     "name": "stdout",
     "output_type": "stream",
     "text": [
      "Merged data saved to merged_data.csv\n"
     ]
    }
   ],
   "source": [
    "# Example usage:\n",
    "folder_path = 'csv/'  # Specify the folder containing CSV files\n",
    "output_file = 'merged_data.csv'      # Specify the name of the output merged CSV file\n",
    "\n",
    "merge_csv_files(folder_path, output_file)"
   ]
  },
  {
   "cell_type": "code",
   "execution_count": 10,
   "id": "3987cfe2-ebb7-4f28-90a0-28560153bc25",
   "metadata": {},
   "outputs": [
    {
     "name": "stdout",
     "output_type": "stream",
     "text": [
      "README.md                        merged_data.csv\n",
      "Untitled.ipynb                   options_chain_data_combined.csv\n",
      "Untitled1.ipynb                  options_chain_data_log.csv\n",
      "combined_data.csv                process_options_data.ipynb\n",
      "\u001b[34mcsv\u001b[m\u001b[m/                             process_options_data_v2.ipynb\n",
      "ibkrAPI.ipynb                    scrape-economic-data.ipynb\n"
     ]
    }
   ],
   "source": [
    "ls\n"
   ]
  }
 ],
 "metadata": {
  "kernelspec": {
   "display_name": "Python 3 (ipykernel)",
   "language": "python",
   "name": "python3"
  },
  "language_info": {
   "codemirror_mode": {
    "name": "ipython",
    "version": 3
   },
   "file_extension": ".py",
   "mimetype": "text/x-python",
   "name": "python",
   "nbconvert_exporter": "python",
   "pygments_lexer": "ipython3",
   "version": "3.11.5"
  }
 },
 "nbformat": 4,
 "nbformat_minor": 5
}
