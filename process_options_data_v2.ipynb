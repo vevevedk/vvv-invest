{
 "cells": [
  {
   "cell_type": "code",
   "execution_count": 1,
   "id": "00a92362-553d-4006-8831-981a7c3e539e",
   "metadata": {},
   "outputs": [],
   "source": [
    "import os\n",
    "import pandas as pd\n"
   ]
  },
  {
   "cell_type": "code",
   "execution_count": 4,
   "id": "45cc4301-0b06-40c9-b994-7fa94902f91c",
   "metadata": {},
   "outputs": [],
   "source": [
    "def extract_info_from_filename(file_path):\n",
    "    file_name = os.path.basename(file_path).split('.')[0]  # Get the file name without the extension\n",
    "    parts = file_name.split('-')\n",
    "    \n",
    "    # Extracting the ticker\n",
    "    ticker = parts[0]\n",
    "    \n",
    "    # Extracting the expiration date\n",
    "    start_idx_exp = file_name.find(\"exp-\") + 4  # +4 to move past \"exp-\"\n",
    "    expiration_date = file_name[start_idx_exp:start_idx_exp + 10]\n",
    "    expiration_date = expiration_date.replace(\"-\", \"\")  # Removing '-'\n",
    "    \n",
    "    # Extracting the updated date\n",
    "    start_idx_date = file_name.rfind(\"-\") - 5  # +1 to move past the last \"-\"\n",
    "    updated_date_raw = file_name[start_idx_date:start_idx_date + 10]\n",
    "    updated_date_parts = updated_date_raw.split(\"-\")\n",
    "    updated_date = updated_date_parts[2] + updated_date_parts[0] + updated_date_parts[1] # Reformatting to yyyymmdd\n",
    "    \n",
    "    return ticker, expiration_date, updated_date\n",
    "\n",
    "def process_file(file_path):\n",
    "    data = pd.read_csv(os.getcwd()+ \"/csv/\" + file_path)\n",
    "    \n",
    "    ticker, expiration_date, updated_date = extract_info_from_filename(file_path)\n",
    "    \n",
    "    # Check if 'Symbol' column exists before filtering\n",
    "    if 'Symbol' in data.columns:\n",
    "        data = data[~data['Symbol'].str.contains(\"Downloaded from Barchart\", na=False)]\n",
    "    \n",
    "    # Check if 'Strike' column exists before filtering\n",
    "    if 'Strike' in data.columns:\n",
    "        data = data[~data['Strike'].str.contains(\"Downloaded from Barchart\", na=True)]\n",
    "    \n",
    "    # Prepending the columns\n",
    "    data.insert(0, 'Updated Date', updated_date)\n",
    "    data.insert(1, 'Expiration Date', expiration_date)\n",
    "    data.insert(2, 'Ticker', ticker)\n",
    "    \n",
    "    return data"
   ]
  },
  {
   "cell_type": "code",
   "execution_count": 9,
   "id": "d6512156-df52-4f39-83cd-fc305648d1ac",
   "metadata": {},
   "outputs": [
    {
     "name": "stdout",
     "output_type": "stream",
     "text": [
      "  Updated Date Expiration Date Ticker  Strike   Last  Theor.      IV    Delta  \\\n",
      "0     20240207        20240216    spy  484.00  10.47   11.15  12.39%  0.86748   \n",
      "1     20240207        20240216    spy  485.00  10.35   10.28  12.26%  0.84599   \n",
      "2     20240207        20240216    spy  486.00   9.80    9.42  12.12%  0.82189   \n",
      "3     20240207        20240216    spy  487.00   8.95    8.59  11.97%  0.79526   \n",
      "4     20240207        20240216    spy  488.00   8.05    7.79  11.83%  0.76536   \n",
      "\n",
      "     Gamma    Theta     Vega      Rho Volume Open Int  Vol/OI  Type  \\\n",
      "0  0.02228 -0.16507  0.16609  0.10291  1,545   16,034    0.10  Call   \n",
      "1  0.02493 -0.17478  0.18388  0.10051    308   27,631    0.01  Call   \n",
      "2  0.02771 -0.18426  0.20202  0.09779  1,210    6,613    0.18  Call   \n",
      "3  0.03057 -0.19305  0.22007  0.09475     87    7,571    0.01  Call   \n",
      "4  0.03344 -0.20152  0.23802  0.09131    172   10,538    0.02  Call   \n",
      "\n",
      "  Last Trade  Avg IV  \n",
      "0   02/06/24  11.55%  \n",
      "1   02/06/24  11.55%  \n",
      "2   02/06/24  11.55%  \n",
      "3   02/06/24  11.55%  \n",
      "4   02/06/24  11.55%  \n"
     ]
    }
   ],
   "source": [
    "# Assuming process_file is defined somewhere above\n",
    "\n",
    "# Get a list of all files in the current working directory\n",
    "all_files = os.listdir(os.getcwd() + \"/csv\")\n",
    "\n",
    "# Filter out only the CSV files\n",
    "csv_files = [file for file in all_files if file.endswith('.csv')]\n",
    "\n",
    "# List to collect DataFrames from each processed file\n",
    "dfs = []\n",
    "\n",
    "# Process each file and append DataFrame to dfs list\n",
    "for csv_file in csv_files:\n",
    "    temp_df = process_file(csv_file)\n",
    "    dfs.append(temp_df)\n",
    "\n",
    "# Concatenate all DataFrames in the list into a master DataFrame\n",
    "master_df = pd.concat(dfs, ignore_index=True)\n",
    "\n",
    "# print head of master df \n",
    "print(master_df.head())\n",
    "\n",
    "# save master df to csv\n",
    "master_df.to_csv(\"options_chain_data_combined.csv\", index=False)"
   ]
  }
 ],
 "metadata": {
  "kernelspec": {
   "display_name": "Python 3 (ipykernel)",
   "language": "python",
   "name": "python3"
  },
  "language_info": {
   "codemirror_mode": {
    "name": "ipython",
    "version": 3
   },
   "file_extension": ".py",
   "mimetype": "text/x-python",
   "name": "python",
   "nbconvert_exporter": "python",
   "pygments_lexer": "ipython3",
   "version": "3.11.6"
  }
 },
 "nbformat": 4,
 "nbformat_minor": 5
}
