{
 "cells": [
  {
   "cell_type": "code",
   "execution_count": 72,
   "id": "df61b41a-4497-4168-b4ac-38f69a0d5ff0",
   "metadata": {},
   "outputs": [],
   "source": [
    "import os\n",
    "import pandas as pd\n",
    "from datetime import date"
   ]
  },
  {
   "cell_type": "code",
   "execution_count": 73,
   "id": "5247c10c-7e66-4049-9e2d-1ba83aaeed43",
   "metadata": {},
   "outputs": [],
   "source": [
    "#ls csv/"
   ]
  },
  {
   "cell_type": "code",
   "execution_count": 78,
   "id": "945a4960-b122-4894-82c7-9affc9db5aa2",
   "metadata": {},
   "outputs": [],
   "source": [
    "def extract_info_from_filename(file_path):\n",
    "    file_name = os.path.basename(file_path).split('.')[0]  # Get the file name without the extension\n",
    "    \n",
    "    # Split the filename by '-' and check if it has the expected number of parts\n",
    "    parts = file_name.split('-')\n",
    "    if len(parts) < 3:\n",
    "        print(\"Filename:\", file_name)\n",
    "        raise ValueError(\"Filename does not have the expected format\")\n",
    "\n",
    "    # Extracting the ticker\n",
    "    ticker = parts[0]\n",
    "    \n",
    "    # Extracting the expiration date\n",
    "    start_idx_exp = file_name.find(\"exp-\") + 4  # +4 to move past \"exp-\"\n",
    "    expiration_date = file_name[start_idx_exp:start_idx_exp + 10]\n",
    "    expiration_date = expiration_date.replace(\"-\", \"\")  # Removing '-'\n",
    "    \n",
    "    # Extracting the updated date\n",
    "    start_idx_date = file_name.rfind(\"-\") - 5  # +1 to move past the last \"-\"\n",
    "    updated_date_raw = file_name[start_idx_date:start_idx_date + 10]\n",
    "    updated_date_parts = updated_date_raw.split(\"-\")\n",
    "    if len(updated_date_parts) != 3:\n",
    "        print(\"Updated date:\", updated_date_parts)\n",
    "        raise ValueError(\"Updated date does not have the expected format\")\n",
    "    updated_date = updated_date_parts[2] + updated_date_parts[0] + updated_date_parts[1]  # Reformatting to yyyymmdd\n",
    "    \n",
    "    return ticker, expiration_date, updated_date"
   ]
  },
  {
   "cell_type": "code",
   "execution_count": 75,
   "id": "6ed079fe-7597-4e40-a512-46bff90f4619",
   "metadata": {},
   "outputs": [],
   "source": [
    "def process_file(file_path):\n",
    "    data = pd.read_csv(os.getcwd()+ \"/csv/\" + file_path)\n",
    "    \n",
    "    ticker, expiration_date, updated_date = extract_info_from_filename(file_path)\n",
    "    \n",
    "    # Check if 'Symbol' column exists before filtering\n",
    "    if 'Symbol' in data.columns:\n",
    "        data = data[~data['Symbol'].str.contains(\"Downloaded from Barchart\", na=False)]\n",
    "    \n",
    "    # Check if 'Strike' column exists before filtering\n",
    "    if 'Strike' in data.columns:\n",
    "        data = data[~data['Strike'].str.contains(\"Downloaded from Barchart\", na=True)]\n",
    "    \n",
    "    # Prepending the columns\n",
    "    data.insert(0, 'Updated Date', updated_date)\n",
    "    data.insert(1, 'Expiration Date', expiration_date)\n",
    "    data.insert(2, 'Ticker', ticker)\n",
    "    \n",
    "    return data"
   ]
  },
  {
   "cell_type": "code",
   "execution_count": 79,
   "id": "8199646a-a6af-4270-82c2-50709867bc7b",
   "metadata": {},
   "outputs": [
    {
     "name": "stdout",
     "output_type": "stream",
     "text": [
      "Filename: merged_data\n"
     ]
    },
    {
     "ename": "ValueError",
     "evalue": "Filename does not have the expected format",
     "output_type": "error",
     "traceback": [
      "\u001b[0;31m---------------------------------------------------------------------------\u001b[0m",
      "\u001b[0;31mValueError\u001b[0m                                Traceback (most recent call last)",
      "Cell \u001b[0;32mIn[79], line 10\u001b[0m\n\u001b[1;32m      8\u001b[0m \u001b[38;5;66;03m# Process each file and append to master_df\u001b[39;00m\n\u001b[1;32m      9\u001b[0m \u001b[38;5;28;01mfor\u001b[39;00m csv_file \u001b[38;5;129;01min\u001b[39;00m csv_files:\n\u001b[0;32m---> 10\u001b[0m     temp_df \u001b[38;5;241m=\u001b[39m \u001b[43mprocess_file\u001b[49m\u001b[43m(\u001b[49m\u001b[43mcsv_file\u001b[49m\u001b[43m)\u001b[49m\n\u001b[1;32m     11\u001b[0m     master_df \u001b[38;5;241m=\u001b[39m pd\u001b[38;5;241m.\u001b[39mconcat([master_df, temp_df], ignore_index\u001b[38;5;241m=\u001b[39m\u001b[38;5;28;01mTrue\u001b[39;00m)\n\u001b[1;32m     13\u001b[0m \u001b[38;5;66;03m# Print head of master df \u001b[39;00m\n",
      "Cell \u001b[0;32mIn[75], line 4\u001b[0m, in \u001b[0;36mprocess_file\u001b[0;34m(file_path)\u001b[0m\n\u001b[1;32m      1\u001b[0m \u001b[38;5;28;01mdef\u001b[39;00m \u001b[38;5;21mprocess_file\u001b[39m(file_path):\n\u001b[1;32m      2\u001b[0m     data \u001b[38;5;241m=\u001b[39m pd\u001b[38;5;241m.\u001b[39mread_csv(os\u001b[38;5;241m.\u001b[39mgetcwd()\u001b[38;5;241m+\u001b[39m \u001b[38;5;124m\"\u001b[39m\u001b[38;5;124m/csv/\u001b[39m\u001b[38;5;124m\"\u001b[39m \u001b[38;5;241m+\u001b[39m file_path)\n\u001b[0;32m----> 4\u001b[0m     ticker, expiration_date, updated_date \u001b[38;5;241m=\u001b[39m \u001b[43mextract_info_from_filename\u001b[49m\u001b[43m(\u001b[49m\u001b[43mfile_path\u001b[49m\u001b[43m)\u001b[49m\n\u001b[1;32m      6\u001b[0m     \u001b[38;5;66;03m# Check if 'Symbol' column exists before filtering\u001b[39;00m\n\u001b[1;32m      7\u001b[0m     \u001b[38;5;28;01mif\u001b[39;00m \u001b[38;5;124m'\u001b[39m\u001b[38;5;124mSymbol\u001b[39m\u001b[38;5;124m'\u001b[39m \u001b[38;5;129;01min\u001b[39;00m data\u001b[38;5;241m.\u001b[39mcolumns:\n",
      "Cell \u001b[0;32mIn[78], line 8\u001b[0m, in \u001b[0;36mextract_info_from_filename\u001b[0;34m(file_path)\u001b[0m\n\u001b[1;32m      6\u001b[0m \u001b[38;5;28;01mif\u001b[39;00m \u001b[38;5;28mlen\u001b[39m(parts) \u001b[38;5;241m<\u001b[39m \u001b[38;5;241m3\u001b[39m:\n\u001b[1;32m      7\u001b[0m     \u001b[38;5;28mprint\u001b[39m(\u001b[38;5;124m\"\u001b[39m\u001b[38;5;124mFilename:\u001b[39m\u001b[38;5;124m\"\u001b[39m, file_name)\n\u001b[0;32m----> 8\u001b[0m     \u001b[38;5;28;01mraise\u001b[39;00m \u001b[38;5;167;01mValueError\u001b[39;00m(\u001b[38;5;124m\"\u001b[39m\u001b[38;5;124mFilename does not have the expected format\u001b[39m\u001b[38;5;124m\"\u001b[39m)\n\u001b[1;32m     10\u001b[0m \u001b[38;5;66;03m# Extracting the ticker\u001b[39;00m\n\u001b[1;32m     11\u001b[0m ticker \u001b[38;5;241m=\u001b[39m parts[\u001b[38;5;241m0\u001b[39m]\n",
      "\u001b[0;31mValueError\u001b[0m: Filename does not have the expected format"
     ]
    }
   ],
   "source": [
    "# Get a list of all CSV files in the current working directory\n",
    "all_files = os.listdir(os.getcwd() + \"/csv\")\n",
    "csv_files = [file for file in all_files if file.endswith('.csv')]\n",
    "\n",
    "# Create an empty master DataFrame\n",
    "master_df = pd.DataFrame()\n",
    "\n",
    "# Process each file and append to master_df\n",
    "for csv_file in csv_files:\n",
    "    temp_df = process_file(csv_file)\n",
    "    master_df = pd.concat([master_df, temp_df], ignore_index=True)\n",
    "\n",
    "# Print head of master df \n",
    "master_df.head()\n",
    "\n",
    "# Save master df to csv\n",
    "master_df.to_csv(\"options_chain_data_combined.csv\", index=False)"
   ]
  },
  {
   "cell_type": "code",
   "execution_count": null,
   "id": "12d81fa3-8a28-4e8b-8ee1-e06bc8163f01",
   "metadata": {},
   "outputs": [],
   "source": []
  },
  {
   "cell_type": "code",
   "execution_count": null,
   "id": "87fd369a-8bae-4c27-b9b8-d060ed8a440f",
   "metadata": {},
   "outputs": [],
   "source": []
  },
  {
   "cell_type": "code",
   "execution_count": null,
   "id": "3987cfe2-ebb7-4f28-90a0-28560153bc25",
   "metadata": {},
   "outputs": [],
   "source": []
  }
 ],
 "metadata": {
  "kernelspec": {
   "display_name": "Python 3 (ipykernel)",
   "language": "python",
   "name": "python3"
  },
  "language_info": {
   "codemirror_mode": {
    "name": "ipython",
    "version": 3
   },
   "file_extension": ".py",
   "mimetype": "text/x-python",
   "name": "python",
   "nbconvert_exporter": "python",
   "pygments_lexer": "ipython3",
   "version": "3.11.5"
  }
 },
 "nbformat": 4,
 "nbformat_minor": 5
}
