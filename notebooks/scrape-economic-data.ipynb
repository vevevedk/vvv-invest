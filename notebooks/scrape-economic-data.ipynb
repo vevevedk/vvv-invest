{
 "cells": [
  {
   "cell_type": "code",
   "execution_count": 2,
   "id": "4b9b5355-6106-4240-a623-21265b4e9e69",
   "metadata": {},
   "outputs": [],
   "source": [
    "import requests\n",
    "from bs4 import BeautifulSoup\n",
    "\n"
   ]
  },
  {
   "cell_type": "code",
   "execution_count": 3,
   "id": "08ebeafe-e0e6-427a-bc69-b27395974939",
   "metadata": {},
   "outputs": [],
   "source": [
    "url = 'https://tradingeconomics.com/calendar'\n",
    "response = requests.get(url)\n"
   ]
  },
  {
   "cell_type": "code",
   "execution_count": 4,
   "id": "d0d3a94f-2135-4d6c-b2e4-14e2667d8323",
   "metadata": {},
   "outputs": [],
   "source": [
    "soup = BeautifulSoup(response.content, 'html.parser')\n"
   ]
  }
 ],
 "metadata": {
  "kernelspec": {
   "display_name": "Python 3 (ipykernel)",
   "language": "python",
   "name": "python3"
  },
  "language_info": {
   "codemirror_mode": {
    "name": "ipython",
    "version": 3
   },
   "file_extension": ".py",
   "mimetype": "text/x-python",
   "name": "python",
   "nbconvert_exporter": "python",
   "pygments_lexer": "ipython3",
   "version": "3.10.6"
  }
 },
 "nbformat": 4,
 "nbformat_minor": 5
}
