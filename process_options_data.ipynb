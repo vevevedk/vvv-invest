{
 "cells": [
  {
   "cell_type": "code",
   "execution_count": 1,
   "id": "00a92362-553d-4006-8831-981a7c3e539e",
   "metadata": {},
   "outputs": [],
   "source": [
    "import os\n",
    "import pandas as pd"
   ]
  },
  {
   "cell_type": "code",
   "execution_count": 2,
   "id": "45cc4301-0b06-40c9-b994-7fa94902f91c",
   "metadata": {},
   "outputs": [],
   "source": [
    "def extract_info_from_filename(file_path):\n",
    "    file_name = os.path.basename(file_path).split('.')[0]  # Get the file name without the extension\n",
    "    parts = file_name.split('-')\n",
    "    \n",
    "    # Extracting the ticker\n",
    "    ticker = parts[0]\n",
    "    \n",
    "    # Extracting the expiration date\n",
    "    start_idx_exp = file_name.find(\"exp-\") + 4  # +4 to move past \"exp-\"\n",
    "    expiration_date = file_name[start_idx_exp:start_idx_exp + 10]\n",
    "    expiration_date = expiration_date.replace(\"-\", \"\")  # Removing '-'\n",
    "    \n",
    "    # Extracting the updated date\n",
    "    start_idx_date = file_name.rfind(\"-\") - 5  # +1 to move past the last \"-\"\n",
    "    updated_date_raw = file_name[start_idx_date:start_idx_date + 10]\n",
    "    updated_date_parts = updated_date_raw.split(\"-\")\n",
    "    updated_date = updated_date_parts[2] + updated_date_parts[0] + updated_date_parts[1] # Reformatting to yyyymmdd\n",
    "    \n",
    "    return ticker, expiration_date, updated_date\n",
    "\n",
    "def process_file(file_path):\n",
    "    data = pd.read_csv(os.getcwd()+ \"/csv/\" + file_path)\n",
    "    \n",
    "    ticker, expiration_date, updated_date = extract_info_from_filename(file_path)\n",
    "    \n",
    "    # Check if 'Symbol' column exists before filtering\n",
    "    if 'Symbol' in data.columns:\n",
    "        data = data[~data['Symbol'].str.contains(\"Downloaded from Barchart\", na=False)]\n",
    "    \n",
    "    # Check if 'Strike' column exists before filtering\n",
    "    if 'Strike' in data.columns:\n",
    "        data = data[~data['Strike'].str.contains(\"Downloaded from Barchart\", na=True)]\n",
    "    \n",
    "    # Prepending the columns\n",
    "    data.insert(0, 'Updated Date', updated_date)\n",
    "    data.insert(1, 'Expiration Date', expiration_date)\n",
    "    data.insert(2, 'Ticker', ticker)\n",
    "    \n",
    "    return data"
   ]
  },
  {
   "cell_type": "code",
   "execution_count": 13,
   "id": "d6512156-df52-4f39-83cd-fc305648d1ac",
   "metadata": {},
   "outputs": [
    {
     "name": "stderr",
     "output_type": "stream",
     "text": [
      "/var/folders/5b/kjq9z2x165b9g6jc_0l_ljz80000gn/T/ipykernel_81824/3157466769.py:13: FutureWarning: The frame.append method is deprecated and will be removed from pandas in a future version. Use pandas.concat instead.\n",
      "  master_df = master_df.append(temp_df, ignore_index=True)\n",
      "/var/folders/5b/kjq9z2x165b9g6jc_0l_ljz80000gn/T/ipykernel_81824/3157466769.py:13: FutureWarning: The frame.append method is deprecated and will be removed from pandas in a future version. Use pandas.concat instead.\n",
      "  master_df = master_df.append(temp_df, ignore_index=True)\n",
      "/var/folders/5b/kjq9z2x165b9g6jc_0l_ljz80000gn/T/ipykernel_81824/3157466769.py:13: FutureWarning: The frame.append method is deprecated and will be removed from pandas in a future version. Use pandas.concat instead.\n",
      "  master_df = master_df.append(temp_df, ignore_index=True)\n",
      "/var/folders/5b/kjq9z2x165b9g6jc_0l_ljz80000gn/T/ipykernel_81824/3157466769.py:13: FutureWarning: The frame.append method is deprecated and will be removed from pandas in a future version. Use pandas.concat instead.\n",
      "  master_df = master_df.append(temp_df, ignore_index=True)\n",
      "/var/folders/5b/kjq9z2x165b9g6jc_0l_ljz80000gn/T/ipykernel_81824/3157466769.py:13: FutureWarning: The frame.append method is deprecated and will be removed from pandas in a future version. Use pandas.concat instead.\n",
      "  master_df = master_df.append(temp_df, ignore_index=True)\n",
      "/var/folders/5b/kjq9z2x165b9g6jc_0l_ljz80000gn/T/ipykernel_81824/3157466769.py:13: FutureWarning: The frame.append method is deprecated and will be removed from pandas in a future version. Use pandas.concat instead.\n",
      "  master_df = master_df.append(temp_df, ignore_index=True)\n",
      "/var/folders/5b/kjq9z2x165b9g6jc_0l_ljz80000gn/T/ipykernel_81824/3157466769.py:13: FutureWarning: The frame.append method is deprecated and will be removed from pandas in a future version. Use pandas.concat instead.\n",
      "  master_df = master_df.append(temp_df, ignore_index=True)\n",
      "/var/folders/5b/kjq9z2x165b9g6jc_0l_ljz80000gn/T/ipykernel_81824/3157466769.py:13: FutureWarning: The frame.append method is deprecated and will be removed from pandas in a future version. Use pandas.concat instead.\n",
      "  master_df = master_df.append(temp_df, ignore_index=True)\n",
      "/var/folders/5b/kjq9z2x165b9g6jc_0l_ljz80000gn/T/ipykernel_81824/3157466769.py:13: FutureWarning: The frame.append method is deprecated and will be removed from pandas in a future version. Use pandas.concat instead.\n",
      "  master_df = master_df.append(temp_df, ignore_index=True)\n",
      "/var/folders/5b/kjq9z2x165b9g6jc_0l_ljz80000gn/T/ipykernel_81824/3157466769.py:13: FutureWarning: The frame.append method is deprecated and will be removed from pandas in a future version. Use pandas.concat instead.\n",
      "  master_df = master_df.append(temp_df, ignore_index=True)\n",
      "/var/folders/5b/kjq9z2x165b9g6jc_0l_ljz80000gn/T/ipykernel_81824/3157466769.py:13: FutureWarning: The frame.append method is deprecated and will be removed from pandas in a future version. Use pandas.concat instead.\n",
      "  master_df = master_df.append(temp_df, ignore_index=True)\n",
      "/var/folders/5b/kjq9z2x165b9g6jc_0l_ljz80000gn/T/ipykernel_81824/3157466769.py:13: FutureWarning: The frame.append method is deprecated and will be removed from pandas in a future version. Use pandas.concat instead.\n",
      "  master_df = master_df.append(temp_df, ignore_index=True)\n",
      "/var/folders/5b/kjq9z2x165b9g6jc_0l_ljz80000gn/T/ipykernel_81824/3157466769.py:13: FutureWarning: The frame.append method is deprecated and will be removed from pandas in a future version. Use pandas.concat instead.\n",
      "  master_df = master_df.append(temp_df, ignore_index=True)\n",
      "/var/folders/5b/kjq9z2x165b9g6jc_0l_ljz80000gn/T/ipykernel_81824/3157466769.py:13: FutureWarning: The frame.append method is deprecated and will be removed from pandas in a future version. Use pandas.concat instead.\n",
      "  master_df = master_df.append(temp_df, ignore_index=True)\n",
      "/var/folders/5b/kjq9z2x165b9g6jc_0l_ljz80000gn/T/ipykernel_81824/3157466769.py:13: FutureWarning: The frame.append method is deprecated and will be removed from pandas in a future version. Use pandas.concat instead.\n",
      "  master_df = master_df.append(temp_df, ignore_index=True)\n",
      "/var/folders/5b/kjq9z2x165b9g6jc_0l_ljz80000gn/T/ipykernel_81824/3157466769.py:13: FutureWarning: The frame.append method is deprecated and will be removed from pandas in a future version. Use pandas.concat instead.\n",
      "  master_df = master_df.append(temp_df, ignore_index=True)\n"
     ]
    }
   ],
   "source": [
    "# Get a list of all files in the current working directory\n",
    "all_files = os.listdir(os.getcwd()+ \"/csv\") \n",
    "\n",
    "# Filter out only the CSV files\n",
    "csv_files = [file for file in all_files if file.endswith('.csv')]\n",
    "\n",
    "# Create an empty master DataFrame\n",
    "master_df = pd.DataFrame()\n",
    "\n",
    "# Process each file and append to master_df\n",
    "for csv_file in csv_files:\n",
    "    temp_df = process_file(csv_file)\n",
    "    master_df = master_df.append(temp_df, ignore_index=True)\n",
    "    \n",
    "# print head of master df \n",
    "master_df.head()\n",
    "\n",
    "# save master df to csv\n",
    "master_df.to_csv(\"options_chain_data_combined.csv\", index=False)"
   ]
  }
 ],
 "metadata": {
  "kernelspec": {
   "display_name": "Python 3 (ipykernel)",
   "language": "python",
   "name": "python3"
  },
  "language_info": {
   "codemirror_mode": {
    "name": "ipython",
    "version": 3
   },
   "file_extension": ".py",
   "mimetype": "text/x-python",
   "name": "python",
   "nbconvert_exporter": "python",
   "pygments_lexer": "ipython3",
   "version": "3.10.6"
  }
 },
 "nbformat": 4,
 "nbformat_minor": 5
}
